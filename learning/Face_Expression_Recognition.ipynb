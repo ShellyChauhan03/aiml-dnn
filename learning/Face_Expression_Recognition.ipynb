{
  "cells": [
    {
      "attachments": {},
      "cell_type": "markdown",
      "metadata": {},
      "source": [
        "## Group No 38\n",
        "\n",
        "## Group Member Names:\n",
        "1. Amol Nishikant Kelkar (2022AA05165)\n",
        "2. Shelly Chauhan (2022AA05034)\n",
        "3. Kalpana Singh (2022AA05146)\n",
        "\n",
        "## Journal used for the implemetation\n",
        "Journal title:  Facial Expression Recognition and Face Recognition Using a Convolutional Neural Network\n",
        "\n",
        "Authors:\n",
        "\n",
        "Journal Name:\n",
        "\n",
        "Year:"
      ]
    },
    {
      "attachments": {},
      "cell_type": "markdown",
      "metadata": {},
      "source": [
        "Choosen Application Area is Expression Recoginition from images\n",
        "We have choosen Paper 2 for the recognition\n",
        "Facial Expression recognition using CNN"
      ]
    },
    {
      "cell_type": "code",
      "execution_count": null,
      "metadata": {},
      "outputs": [],
      "source": [
        "!mkdir -p ~/.kaggle\n",
        "!cp kaggle.json ~/.kaggle/"
      ]
    },
    {
      "cell_type": "code",
      "execution_count": null,
      "metadata": {
        "colab": {
          "base_uri": "https://localhost:8080/"
        },
        "id": "phgV44zGbJdq",
        "outputId": "c67e69f7-0193-4f6d-97b5-9a272b46480d"
      },
      "outputs": [
        {
          "name": "stdout",
          "output_type": "stream",
          "text": [
            "Warning: Your Kaggle API key is readable by other users on this system! To fix this, you can run 'chmod 600 /root/.kaggle/kaggle.json'\n",
            "Downloading fer2013.zip to /content\n",
            " 81% 49.0M/60.3M [00:00<00:00, 104MB/s] \n",
            "100% 60.3M/60.3M [00:00<00:00, 108MB/s]\n"
          ]
        }
      ],
      "source": [
        "\n",
        "!kaggle datasets download -d msambare/fer2013"
      ]
    },
    {
      "cell_type": "code",
      "execution_count": 1,
      "metadata": {
        "id": "W29YwbnwbSPz"
      },
      "outputs": [],
      "source": [
        "import zipfile\n",
        "zip_ref = zipfile.ZipFile('/Users/harpreetsingh/Desktop/SEM2/DNN/face-expression.zip' , 'r')\n",
        "zip_ref.extractall()\n",
        "zip_ref.close()"
      ]
    },
    {
      "cell_type": "code",
      "execution_count": 2,
      "metadata": {
        "id": "c92Pao3QbqkB"
      },
      "outputs": [],
      "source": [
        "import tensorflow as tf\n",
        "from tensorflow import keras\n",
        "from keras import Sequential\n",
        "from keras.layers import Dense, Conv2D, MaxPooling2D, Flatten, Dropout, BatchNormalization\n",
        "\n",
        "import matplotlib.pyplot as plt"
      ]
    },
    {
      "attachments": {},
      "cell_type": "markdown",
      "metadata": {},
      "source": [
        "#### Images were resized to 32 X 32 from input image size of 48 X 48 in the dataset"
      ]
    },
    {
      "cell_type": "code",
      "execution_count": 49,
      "metadata": {
        "colab": {
          "base_uri": "https://localhost:8080/"
        },
        "id": "jDFi85Sod1Nt",
        "outputId": "fdfb3006-aa1b-4e16-d03f-d0735b16e7e7"
      },
      "outputs": [
        {
          "name": "stdout",
          "output_type": "stream",
          "text": [
            "Found 28821 files belonging to 7 classes.\n",
            "Found 7066 files belonging to 7 classes.\n"
          ]
        }
      ],
      "source": [
        "train_data = tf.keras.utils.image_dataset_from_directory(\n",
        "    'images/train',\n",
        "    labels=\"inferred\",\n",
        "    label_mode=\"int\",\n",
        "    batch_size=10,\n",
        "    image_size=(32, 32),\n",
        "    shuffle=True\n",
        ")\n",
        "\n",
        "test_data = tf.keras.utils.image_dataset_from_directory(\n",
        "    'images/validation',\n",
        "    labels=\"inferred\",\n",
        "    label_mode=\"int\",\n",
        "    batch_size=10,\n",
        "    image_size=(32, 32),\n",
        "    shuffle=True\n",
        ")"
      ]
    },
    {
      "attachments": {},
      "cell_type": "markdown",
      "metadata": {},
      "source": [
        "#### Normalizing the images so that each cell comtains value from 0 to 1."
      ]
    },
    {
      "cell_type": "code",
      "execution_count": 5,
      "metadata": {
        "id": "fDbkCcLud1Qz"
      },
      "outputs": [],
      "source": [
        "def normalize_data(image, label):\n",
        "  image = tf.cast(image/255. , tf.float32)\n",
        "  return image,label\n",
        "\n",
        "train_ds = train_data.map(normalize_data)\n",
        "test_ds = test_data.map(normalize_data)\n"
      ]
    },
    {
      "cell_type": "code",
      "execution_count": 51,
      "metadata": {
        "colab": {
          "base_uri": "https://localhost:8080/"
        },
        "id": "LzNORL-y87C2",
        "outputId": "9a2311b8-c936-4480-fa39-aa334ebbae20"
      },
      "outputs": [
        {
          "data": {
            "text/plain": [
              "(TensorSpec(shape=(None, 32, 32, 3), dtype=tf.float32, name=None),\n",
              " TensorSpec(shape=(None,), dtype=tf.int32, name=None))"
            ]
          },
          "execution_count": 51,
          "metadata": {},
          "output_type": "execute_result"
        }
      ],
      "source": [
        "train_ds.element_spec"
      ]
    },
    {
      "cell_type": "code",
      "execution_count": 8,
      "metadata": {
        "id": "p8Z5Gr1W4aFL"
      },
      "outputs": [],
      "source": [
        "from keras.layers import Activation\n",
        "from keras import regularizers"
      ]
    },
    {
      "attachments": {},
      "cell_type": "markdown",
      "metadata": {},
      "source": [
        "#### The first Simple CNN used in the paper has used 3 convolutional layers and 1 Dense layer with Dropout of 0.5"
      ]
    },
    {
      "cell_type": "code",
      "execution_count": 53,
      "metadata": {
        "id": "hkWOAMe0fDVl"
      },
      "outputs": [],
      "source": [
        "model = Sequential()\n",
        "\n",
        "model.add(Conv2D(32, kernel_size = (5,5), padding = 'valid', input_shape = (32,32,3)))\n",
        "model.add(Activation('relu'))\n",
        "model.add(MaxPooling2D(pool_size = (2,2), padding = 'valid'))\n",
        "\n",
        "model.add(Conv2D(64, kernel_size = (5,5), padding = 'valid'))\n",
        "model.add(Activation('relu'))\n",
        "model.add(MaxPooling2D(pool_size = (2,2), padding = 'valid'))\n",
        "\n",
        "model.add(Conv2D(128, kernel_size = (5,5), padding = 'valid'))\n",
        "\n",
        "model.add(Flatten())\n",
        "\n",
        "model.add(Dense(100, activation = 'relu'))\n",
        "model.add(Dropout(0.5))\n",
        "model.add(Dense(7, activation  = 'softmax'))\n"
      ]
    },
    {
      "cell_type": "code",
      "execution_count": 54,
      "metadata": {
        "colab": {
          "base_uri": "https://localhost:8080/"
        },
        "id": "1EBECo3EfDbK",
        "outputId": "62c4e927-1d1f-422c-fd3e-004de7f04ba4"
      },
      "outputs": [
        {
          "name": "stdout",
          "output_type": "stream",
          "text": [
            "Model: \"sequential_16\"\n",
            "_________________________________________________________________\n",
            " Layer (type)                Output Shape              Param #   \n",
            "=================================================================\n",
            " conv2d_48 (Conv2D)          (None, 28, 28, 32)        2432      \n",
            "                                                                 \n",
            " activation_14 (Activation)  (None, 28, 28, 32)        0         \n",
            "                                                                 \n",
            " max_pooling2d_36 (MaxPooli  (None, 14, 14, 32)        0         \n",
            " ng2D)                                                           \n",
            "                                                                 \n",
            " conv2d_49 (Conv2D)          (None, 10, 10, 64)        51264     \n",
            "                                                                 \n",
            " activation_15 (Activation)  (None, 10, 10, 64)        0         \n",
            "                                                                 \n",
            " max_pooling2d_37 (MaxPooli  (None, 5, 5, 64)          0         \n",
            " ng2D)                                                           \n",
            "                                                                 \n",
            " conv2d_50 (Conv2D)          (None, 1, 1, 128)         204928    \n",
            "                                                                 \n",
            " flatten_3 (Flatten)         (None, 128)               0         \n",
            "                                                                 \n",
            " dense_9 (Dense)             (None, 100)               12900     \n",
            "                                                                 \n",
            " dropout_1 (Dropout)         (None, 100)               0         \n",
            "                                                                 \n",
            " dense_10 (Dense)            (None, 7)                 707       \n",
            "                                                                 \n",
            "=================================================================\n",
            "Total params: 272231 (1.04 MB)\n",
            "Trainable params: 272231 (1.04 MB)\n",
            "Non-trainable params: 0 (0.00 Byte)\n",
            "_________________________________________________________________\n"
          ]
        }
      ],
      "source": [
        "model.summary()"
      ]
    },
    {
      "cell_type": "code",
      "execution_count": 55,
      "metadata": {
        "id": "ABFoXCchfDeK"
      },
      "outputs": [],
      "source": [
        "model.compile(optimizer = 'adam' , loss = 'sparse_categorical_crossentropy', metrics = ['accuracy'])"
      ]
    },
    {
      "cell_type": "code",
      "execution_count": 57,
      "metadata": {
        "colab": {
          "base_uri": "https://localhost:8080/",
          "height": 667
        },
        "id": "HYzjwZGDfDhD",
        "outputId": "0ddfa884-64b9-43aa-a6b0-c16f110c30ed"
      },
      "outputs": [
        {
          "name": "stdout",
          "output_type": "stream",
          "text": [
            "Epoch 1/100\n"
          ]
        },
        {
          "name": "stdout",
          "output_type": "stream",
          "text": [
            "2883/2883 [==============================] - 13s 4ms/step - loss: 1.0069 - accuracy: 0.5963 - val_loss: 2.1076 - val_accuracy: 0.4382\n",
            "Epoch 2/100\n",
            "2883/2883 [==============================] - 12s 4ms/step - loss: 1.0141 - accuracy: 0.5931 - val_loss: 2.1338 - val_accuracy: 0.4220\n",
            "Epoch 3/100\n",
            "2883/2883 [==============================] - 12s 4ms/step - loss: 1.0067 - accuracy: 0.5970 - val_loss: 2.1203 - val_accuracy: 0.4326\n",
            "Epoch 4/100\n",
            "2883/2883 [==============================] - 12s 4ms/step - loss: 1.0060 - accuracy: 0.5972 - val_loss: 2.0609 - val_accuracy: 0.4321\n",
            "Epoch 5/100\n",
            "2883/2883 [==============================] - 13s 4ms/step - loss: 0.9985 - accuracy: 0.5994 - val_loss: 2.1641 - val_accuracy: 0.4249\n",
            "Epoch 6/100\n",
            "2883/2883 [==============================] - 13s 4ms/step - loss: 1.0166 - accuracy: 0.5927 - val_loss: 2.1499 - val_accuracy: 0.4352\n",
            "Epoch 7/100\n",
            "2883/2883 [==============================] - 13s 5ms/step - loss: 0.9962 - accuracy: 0.5990 - val_loss: 2.1596 - val_accuracy: 0.4319\n",
            "Epoch 8/100\n",
            "2883/2883 [==============================] - 13s 5ms/step - loss: 0.9837 - accuracy: 0.6029 - val_loss: 2.2725 - val_accuracy: 0.4401\n",
            "Epoch 9/100\n",
            "2883/2883 [==============================] - 13s 4ms/step - loss: 1.0052 - accuracy: 0.5948 - val_loss: 2.2155 - val_accuracy: 0.4298\n",
            "Epoch 10/100\n",
            "2883/2883 [==============================] - 12s 4ms/step - loss: 0.9869 - accuracy: 0.6051 - val_loss: 2.2794 - val_accuracy: 0.4280\n",
            "Epoch 11/100\n",
            "2883/2883 [==============================] - 12s 4ms/step - loss: 0.9951 - accuracy: 0.6007 - val_loss: 2.2365 - val_accuracy: 0.4324\n",
            "Epoch 12/100\n",
            "2883/2883 [==============================] - 12s 4ms/step - loss: 0.9820 - accuracy: 0.6027 - val_loss: 2.2817 - val_accuracy: 0.4391\n",
            "Epoch 13/100\n",
            "2883/2883 [==============================] - 12s 4ms/step - loss: 0.9766 - accuracy: 0.6067 - val_loss: 2.2319 - val_accuracy: 0.4316\n",
            "Epoch 14/100\n",
            "2883/2883 [==============================] - 13s 4ms/step - loss: 0.9704 - accuracy: 0.6099 - val_loss: 2.4982 - val_accuracy: 0.4251\n",
            "Epoch 15/100\n",
            "2883/2883 [==============================] - 13s 4ms/step - loss: 0.9789 - accuracy: 0.6059 - val_loss: 2.4983 - val_accuracy: 0.4331\n",
            "Epoch 16/100\n",
            "2883/2883 [==============================] - 13s 5ms/step - loss: 0.9779 - accuracy: 0.6019 - val_loss: 2.4146 - val_accuracy: 0.4336\n",
            "Epoch 17/100\n",
            "2883/2883 [==============================] - 14s 5ms/step - loss: 0.9794 - accuracy: 0.6047 - val_loss: 2.4949 - val_accuracy: 0.4431\n",
            "Epoch 18/100\n",
            "2883/2883 [==============================] - 14s 5ms/step - loss: 0.9558 - accuracy: 0.6166 - val_loss: 2.4440 - val_accuracy: 0.4357\n",
            "Epoch 19/100\n",
            "2883/2883 [==============================] - 14s 5ms/step - loss: 0.9567 - accuracy: 0.6139 - val_loss: 2.4981 - val_accuracy: 0.4307\n",
            "Epoch 20/100\n",
            "2883/2883 [==============================] - 14s 5ms/step - loss: 0.9658 - accuracy: 0.6116 - val_loss: 2.5400 - val_accuracy: 0.4379\n",
            "Epoch 21/100\n",
            "2883/2883 [==============================] - 14s 5ms/step - loss: 0.9624 - accuracy: 0.6139 - val_loss: 2.5608 - val_accuracy: 0.4254\n",
            "Epoch 22/100\n",
            "2883/2883 [==============================] - 14s 5ms/step - loss: 0.9654 - accuracy: 0.6126 - val_loss: 2.5615 - val_accuracy: 0.4219\n",
            "Epoch 23/100\n",
            "2883/2883 [==============================] - 12s 4ms/step - loss: 0.9645 - accuracy: 0.6104 - val_loss: 2.5465 - val_accuracy: 0.4322\n",
            "Epoch 24/100\n",
            "2883/2883 [==============================] - 12s 4ms/step - loss: 0.9529 - accuracy: 0.6124 - val_loss: 2.5425 - val_accuracy: 0.4372\n",
            "Epoch 25/100\n",
            "2883/2883 [==============================] - 12s 4ms/step - loss: 0.9406 - accuracy: 0.6184 - val_loss: 2.7596 - val_accuracy: 0.4417\n",
            "Epoch 26/100\n",
            "2883/2883 [==============================] - 12s 4ms/step - loss: 0.9781 - accuracy: 0.6072 - val_loss: 2.4119 - val_accuracy: 0.4297\n",
            "Epoch 27/100\n",
            "2883/2883 [==============================] - 12s 4ms/step - loss: 0.9461 - accuracy: 0.6157 - val_loss: 2.7139 - val_accuracy: 0.4343\n",
            "Epoch 28/100\n",
            "2883/2883 [==============================] - 12s 4ms/step - loss: 0.9454 - accuracy: 0.6170 - val_loss: 2.6356 - val_accuracy: 0.4363\n",
            "Epoch 29/100\n",
            "2883/2883 [==============================] - 13s 4ms/step - loss: 0.9566 - accuracy: 0.6147 - val_loss: 2.6784 - val_accuracy: 0.4350\n",
            "Epoch 30/100\n",
            "2883/2883 [==============================] - 12s 4ms/step - loss: 0.9351 - accuracy: 0.6217 - val_loss: 2.6290 - val_accuracy: 0.4363\n",
            "Epoch 31/100\n",
            "2883/2883 [==============================] - 13s 4ms/step - loss: 0.9282 - accuracy: 0.6220 - val_loss: 2.6826 - val_accuracy: 0.4386\n",
            "Epoch 32/100\n",
            "2883/2883 [==============================] - 12s 4ms/step - loss: 0.9412 - accuracy: 0.6239 - val_loss: 2.7135 - val_accuracy: 0.4350\n",
            "Epoch 33/100\n",
            "2883/2883 [==============================] - 12s 4ms/step - loss: 0.9203 - accuracy: 0.6277 - val_loss: 2.7673 - val_accuracy: 0.4353\n",
            "Epoch 34/100\n",
            "2883/2883 [==============================] - 12s 4ms/step - loss: 0.9481 - accuracy: 0.6188 - val_loss: 2.7388 - val_accuracy: 0.4346\n",
            "Epoch 35/100\n",
            "2883/2883 [==============================] - 12s 4ms/step - loss: 0.9427 - accuracy: 0.6191 - val_loss: 2.7799 - val_accuracy: 0.4328\n",
            "Epoch 36/100\n",
            "2883/2883 [==============================] - 12s 4ms/step - loss: 0.9227 - accuracy: 0.6229 - val_loss: 2.9100 - val_accuracy: 0.4377\n",
            "Epoch 37/100\n",
            "2883/2883 [==============================] - 12s 4ms/step - loss: 0.9218 - accuracy: 0.6274 - val_loss: 2.7127 - val_accuracy: 0.4387\n",
            "Epoch 38/100\n",
            "2883/2883 [==============================] - 12s 4ms/step - loss: 0.9275 - accuracy: 0.6230 - val_loss: 2.8722 - val_accuracy: 0.4247\n",
            "Epoch 39/100\n",
            "2883/2883 [==============================] - 13s 4ms/step - loss: 0.9482 - accuracy: 0.6222 - val_loss: 2.7605 - val_accuracy: 0.4352\n",
            "Epoch 40/100\n",
            "2883/2883 [==============================] - 13s 4ms/step - loss: 0.9360 - accuracy: 0.6267 - val_loss: 2.9565 - val_accuracy: 0.4319\n",
            "Epoch 41/100\n",
            "2883/2883 [==============================] - 13s 5ms/step - loss: 0.9300 - accuracy: 0.6223 - val_loss: 2.8927 - val_accuracy: 0.4442\n",
            "Epoch 42/100\n",
            "2883/2883 [==============================] - 14s 5ms/step - loss: 0.9370 - accuracy: 0.6243 - val_loss: 2.8319 - val_accuracy: 0.4302\n",
            "Epoch 43/100\n",
            "2883/2883 [==============================] - 12s 4ms/step - loss: 0.9374 - accuracy: 0.6196 - val_loss: 2.8605 - val_accuracy: 0.4288\n",
            "Epoch 44/100\n",
            "2883/2883 [==============================] - 12s 4ms/step - loss: 0.9264 - accuracy: 0.6283 - val_loss: 2.8809 - val_accuracy: 0.4326\n",
            "Epoch 45/100\n",
            "2883/2883 [==============================] - 12s 4ms/step - loss: 0.9329 - accuracy: 0.6231 - val_loss: 3.0156 - val_accuracy: 0.4366\n",
            "Epoch 46/100\n",
            "2883/2883 [==============================] - 11s 4ms/step - loss: 0.9135 - accuracy: 0.6292 - val_loss: 3.0022 - val_accuracy: 0.4329\n",
            "Epoch 47/100\n",
            "2883/2883 [==============================] - 11s 4ms/step - loss: 0.9128 - accuracy: 0.6291 - val_loss: 2.9104 - val_accuracy: 0.4256\n",
            "Epoch 48/100\n",
            "2883/2883 [==============================] - 11s 4ms/step - loss: 0.9358 - accuracy: 0.6240 - val_loss: 3.2389 - val_accuracy: 0.4097\n",
            "Epoch 49/100\n",
            "2883/2883 [==============================] - 12s 4ms/step - loss: 0.9454 - accuracy: 0.6207 - val_loss: 2.8688 - val_accuracy: 0.4285\n",
            "Epoch 50/100\n",
            "2883/2883 [==============================] - 12s 4ms/step - loss: 0.9142 - accuracy: 0.6309 - val_loss: 2.9825 - val_accuracy: 0.4157\n",
            "Epoch 51/100\n",
            "2883/2883 [==============================] - 12s 4ms/step - loss: 0.9187 - accuracy: 0.6301 - val_loss: 3.1220 - val_accuracy: 0.4321\n",
            "Epoch 52/100\n",
            "2883/2883 [==============================] - 13s 4ms/step - loss: 0.9181 - accuracy: 0.6329 - val_loss: 3.1733 - val_accuracy: 0.4387\n",
            "Epoch 53/100\n",
            "2883/2883 [==============================] - 14s 5ms/step - loss: 0.8957 - accuracy: 0.6351 - val_loss: 2.9373 - val_accuracy: 0.4237\n",
            "Epoch 54/100\n",
            "2883/2883 [==============================] - 12s 4ms/step - loss: 0.9200 - accuracy: 0.6271 - val_loss: 2.9368 - val_accuracy: 0.4404\n",
            "Epoch 55/100\n",
            "2883/2883 [==============================] - 12s 4ms/step - loss: 0.8975 - accuracy: 0.6369 - val_loss: 3.0079 - val_accuracy: 0.4391\n",
            "Epoch 56/100\n",
            "2883/2883 [==============================] - 12s 4ms/step - loss: 0.9056 - accuracy: 0.6352 - val_loss: 2.8363 - val_accuracy: 0.4189\n",
            "Epoch 57/100\n",
            "2883/2883 [==============================] - 11s 4ms/step - loss: 0.9185 - accuracy: 0.6263 - val_loss: 3.4135 - val_accuracy: 0.4274\n",
            "Epoch 58/100\n",
            "2883/2883 [==============================] - 11s 4ms/step - loss: 0.9085 - accuracy: 0.6323 - val_loss: 3.1180 - val_accuracy: 0.4291\n",
            "Epoch 59/100\n",
            "2883/2883 [==============================] - 12s 4ms/step - loss: 0.8866 - accuracy: 0.6406 - val_loss: 3.0683 - val_accuracy: 0.4348\n",
            "Epoch 60/100\n",
            "2883/2883 [==============================] - 11s 4ms/step - loss: 0.9024 - accuracy: 0.6379 - val_loss: 3.3059 - val_accuracy: 0.4325\n",
            "Epoch 61/100\n",
            "2883/2883 [==============================] - 11s 4ms/step - loss: 0.9055 - accuracy: 0.6291 - val_loss: 3.2746 - val_accuracy: 0.4307\n",
            "Epoch 62/100\n",
            "2883/2883 [==============================] - 11s 4ms/step - loss: 0.9191 - accuracy: 0.6286 - val_loss: 3.4255 - val_accuracy: 0.4285\n",
            "Epoch 63/100\n",
            "2883/2883 [==============================] - 12s 4ms/step - loss: 0.9015 - accuracy: 0.6377 - val_loss: 3.1683 - val_accuracy: 0.4380\n",
            "Epoch 64/100\n",
            "2883/2883 [==============================] - 12s 4ms/step - loss: 0.9266 - accuracy: 0.6267 - val_loss: 3.0024 - val_accuracy: 0.4236\n",
            "Epoch 65/100\n",
            "2883/2883 [==============================] - 11s 4ms/step - loss: 0.9073 - accuracy: 0.6356 - val_loss: 3.4257 - val_accuracy: 0.4333\n",
            "Epoch 66/100\n",
            "2883/2883 [==============================] - 11s 4ms/step - loss: 0.9172 - accuracy: 0.6290 - val_loss: 3.3161 - val_accuracy: 0.4326\n",
            "Epoch 67/100\n",
            "2883/2883 [==============================] - 11s 4ms/step - loss: 0.9132 - accuracy: 0.6284 - val_loss: 3.4083 - val_accuracy: 0.4360\n",
            "Epoch 68/100\n",
            "2883/2883 [==============================] - 12s 4ms/step - loss: 0.9245 - accuracy: 0.6293 - val_loss: 2.9172 - val_accuracy: 0.4324\n",
            "Epoch 69/100\n",
            "2883/2883 [==============================] - 11s 4ms/step - loss: 0.8911 - accuracy: 0.6399 - val_loss: 3.0773 - val_accuracy: 0.4291\n",
            "Epoch 70/100\n",
            "2883/2883 [==============================] - 11s 4ms/step - loss: 0.9071 - accuracy: 0.6352 - val_loss: 3.3830 - val_accuracy: 0.4356\n",
            "Epoch 71/100\n",
            "2883/2883 [==============================] - 11s 4ms/step - loss: 0.9521 - accuracy: 0.6282 - val_loss: 3.0309 - val_accuracy: 0.4382\n",
            "Epoch 72/100\n",
            "2883/2883 [==============================] - 11s 4ms/step - loss: 0.8895 - accuracy: 0.6405 - val_loss: 3.4340 - val_accuracy: 0.4376\n",
            "Epoch 73/100\n",
            "2883/2883 [==============================] - 11s 4ms/step - loss: 0.9017 - accuracy: 0.6369 - val_loss: 3.2207 - val_accuracy: 0.4325\n",
            "Epoch 74/100\n",
            "2883/2883 [==============================] - 12s 4ms/step - loss: 0.9280 - accuracy: 0.6324 - val_loss: 3.0628 - val_accuracy: 0.4227\n",
            "Epoch 75/100\n",
            "2883/2883 [==============================] - 12s 4ms/step - loss: 0.9188 - accuracy: 0.6326 - val_loss: 3.4081 - val_accuracy: 0.4397\n",
            "Epoch 76/100\n",
            "2883/2883 [==============================] - 12s 4ms/step - loss: 0.9099 - accuracy: 0.6351 - val_loss: 3.2149 - val_accuracy: 0.4424\n",
            "Epoch 77/100\n",
            "2883/2883 [==============================] - 12s 4ms/step - loss: 0.8895 - accuracy: 0.6412 - val_loss: 3.3927 - val_accuracy: 0.4346\n",
            "Epoch 78/100\n",
            "2883/2883 [==============================] - 12s 4ms/step - loss: 0.8912 - accuracy: 0.6426 - val_loss: 3.4227 - val_accuracy: 0.4336\n",
            "Epoch 79/100\n",
            "2883/2883 [==============================] - 12s 4ms/step - loss: 0.8944 - accuracy: 0.6383 - val_loss: 3.4427 - val_accuracy: 0.4268\n",
            "Epoch 80/100\n",
            "2883/2883 [==============================] - 12s 4ms/step - loss: 0.9035 - accuracy: 0.6404 - val_loss: 3.5838 - val_accuracy: 0.4386\n",
            "Epoch 81/100\n",
            "2883/2883 [==============================] - 11s 4ms/step - loss: 0.8993 - accuracy: 0.6381 - val_loss: 3.6647 - val_accuracy: 0.4376\n",
            "Epoch 82/100\n",
            "2883/2883 [==============================] - 12s 4ms/step - loss: 0.9052 - accuracy: 0.6381 - val_loss: 3.6955 - val_accuracy: 0.4216\n",
            "Epoch 83/100\n",
            "2883/2883 [==============================] - 12s 4ms/step - loss: 0.9150 - accuracy: 0.6362 - val_loss: 3.5805 - val_accuracy: 0.4376\n",
            "Epoch 84/100\n",
            "2883/2883 [==============================] - 12s 4ms/step - loss: 0.9006 - accuracy: 0.6387 - val_loss: 3.6187 - val_accuracy: 0.4383\n",
            "Epoch 85/100\n",
            "2883/2883 [==============================] - 13s 4ms/step - loss: 0.9099 - accuracy: 0.6410 - val_loss: 3.6579 - val_accuracy: 0.4348\n",
            "Epoch 86/100\n",
            "2883/2883 [==============================] - 13s 4ms/step - loss: 0.8760 - accuracy: 0.6449 - val_loss: 3.5262 - val_accuracy: 0.4278\n",
            "Epoch 87/100\n",
            "2883/2883 [==============================] - 13s 5ms/step - loss: 0.9209 - accuracy: 0.6359 - val_loss: 3.3448 - val_accuracy: 0.4288\n",
            "Epoch 88/100\n",
            "2883/2883 [==============================] - 13s 5ms/step - loss: 0.9032 - accuracy: 0.6399 - val_loss: 3.5966 - val_accuracy: 0.4164\n",
            "Epoch 89/100\n",
            "2883/2883 [==============================] - 13s 4ms/step - loss: 0.9645 - accuracy: 0.6200 - val_loss: 3.2521 - val_accuracy: 0.4328\n",
            "Epoch 90/100\n",
            "2883/2883 [==============================] - 12s 4ms/step - loss: 0.8895 - accuracy: 0.6453 - val_loss: 3.6016 - val_accuracy: 0.4308\n",
            "Epoch 91/100\n",
            "2883/2883 [==============================] - 12s 4ms/step - loss: 0.9108 - accuracy: 0.6386 - val_loss: 3.8369 - val_accuracy: 0.4304\n",
            "Epoch 92/100\n",
            "2883/2883 [==============================] - 12s 4ms/step - loss: 0.9181 - accuracy: 0.6376 - val_loss: 3.4317 - val_accuracy: 0.4339\n",
            "Epoch 93/100\n",
            "2883/2883 [==============================] - 12s 4ms/step - loss: 0.8654 - accuracy: 0.6513 - val_loss: 3.6937 - val_accuracy: 0.4284\n",
            "Epoch 94/100\n",
            "2883/2883 [==============================] - 13s 4ms/step - loss: 0.8850 - accuracy: 0.6454 - val_loss: 3.6884 - val_accuracy: 0.4345\n",
            "Epoch 95/100\n",
            "2883/2883 [==============================] - 13s 4ms/step - loss: 0.9309 - accuracy: 0.6333 - val_loss: 3.4782 - val_accuracy: 0.4400\n",
            "Epoch 96/100\n",
            "2883/2883 [==============================] - 11s 4ms/step - loss: 0.9050 - accuracy: 0.6387 - val_loss: 3.3716 - val_accuracy: 0.4131\n",
            "Epoch 97/100\n",
            "2883/2883 [==============================] - 11s 4ms/step - loss: 0.8879 - accuracy: 0.6469 - val_loss: 3.7631 - val_accuracy: 0.4159\n",
            "Epoch 98/100\n",
            "2883/2883 [==============================] - 11s 4ms/step - loss: 0.8997 - accuracy: 0.6389 - val_loss: 3.7399 - val_accuracy: 0.4220\n",
            "Epoch 99/100\n",
            "2883/2883 [==============================] - 11s 4ms/step - loss: 0.8955 - accuracy: 0.6436 - val_loss: 3.8159 - val_accuracy: 0.4353\n",
            "Epoch 100/100\n",
            "2883/2883 [==============================] - 11s 4ms/step - loss: 0.9119 - accuracy: 0.6363 - val_loss: 3.5430 - val_accuracy: 0.4236\n"
          ]
        }
      ],
      "source": [
        "history = model.fit(train_ds, epochs = 100, validation_data = test_ds,shuffle = 1)"
      ]
    },
    {
      "attachments": {},
      "cell_type": "markdown",
      "metadata": {},
      "source": [
        "The Simple CNN model gave the validation accuracy of 43.91%. "
      ]
    },
    {
      "cell_type": "code",
      "execution_count": 58,
      "metadata": {
        "id": "0Y_8n8SU7JXP"
      },
      "outputs": [
        {
          "data": {
            "image/png": "[encoded data removed]",
            "text/plain": [
              "<Figure size 640x480 with 1 Axes>"
            ]
          },
          "metadata": {},
          "output_type": "display_data"
        }
      ],
      "source": [
        "\n",
        "plt.plot(history.history['accuracy'], color = 'red', label='train')\n",
        "plt.plot(history.history['val_accuracy'], color='blue', label='validation')\n",
        "plt.legend()\n",
        "plt.show()"
      ]
    },
    {
      "cell_type": "code",
      "execution_count": 59,
      "metadata": {},
      "outputs": [
        {
          "data": {
            "image/png": "[encoded data removed]",
            "text/plain": [
              "<Figure size 640x480 with 1 Axes>"
            ]
          },
          "metadata": {},
          "output_type": "display_data"
        }
      ],
      "source": [
        "plt.plot(history.history['loss'], color = 'red', label='train')\n",
        "plt.plot(history.history['val_loss'], color='blue', label='validation')\n",
        "plt.legend()\n",
        "plt.show()"
      ]
    },
    {
      "cell_type": "code",
      "execution_count": 19,
      "metadata": {
        "colab": {
          "base_uri": "https://localhost:8080/"
        },
        "id": "qMURKkGKLgTg",
        "outputId": "fa4a9c88-04c5-4c72-ca5f-fa4459347e4a"
      },
      "outputs": [
        {
          "name": "stdout",
          "output_type": "stream",
          "text": [
            "Found 28821 files belonging to 7 classes.\n",
            "Found 7066 files belonging to 7 classes.\n"
          ]
        }
      ],
      "source": [
        "train_data_1 = tf.keras.utils.image_dataset_from_directory(\n",
        "    'images/train',\n",
        "    labels=\"inferred\",\n",
        "    label_mode=\"int\",\n",
        "    batch_size=10,\n",
        "    image_size=(48, 48),\n",
        "    shuffle=True\n",
        ")\n",
        "\n",
        "test_data_1 = tf.keras.utils.image_dataset_from_directory(\n",
        "    'images/validation',\n",
        "    labels=\"inferred\",\n",
        "    label_mode=\"int\",\n",
        "    batch_size=10,\n",
        "    image_size=(48, 48),\n",
        "    shuffle=True\n",
        ")"
      ]
    },
    {
      "cell_type": "code",
      "execution_count": 20,
      "metadata": {
        "id": "CYDxxSyGLgg1"
      },
      "outputs": [],
      "source": [
        "train_ds_1 = train_data_1.map(normalize_data)\n",
        "test_ds_1 = test_data_1.map(normalize_data)"
      ]
    },
    {
      "attachments": {},
      "cell_type": "markdown",
      "metadata": {},
      "source": [
        "#### In the second attempt of improving model we have used 5 convolutional layers and 2 dense layers, but since the paper dataset was not available publically we have used the infamous Facial Expression Dataset for classification of  7 expressions"
      ]
    },
    {
      "cell_type": "code",
      "execution_count": 13,
      "metadata": {
        "id": "4zC7YKsm7Jal"
      },
      "outputs": [],
      "source": [
        "# Adding more layers to improve accuracy\n",
        "# crashing the session RAM, hence reduced the batch size\n",
        "n_model = Sequential()\n",
        "\n",
        "n_model.add(Conv2D(48, kernel_size = (3,3), padding = 'valid', input_shape = (48,48,3)))\n",
        "n_model.add(Activation('relu'))\n",
        "# n_model.add(BatchNormalization())\n",
        "n_model.add(MaxPooling2D(pool_size = (2,2), padding = 'valid'))\n",
        "\n",
        "n_model.add(Conv2D(96, kernel_size = (3,3), padding = 'valid'))\n",
        "n_model.add(Activation('relu'))\n",
        "# n_model.add(BatchNormalization())\n",
        "n_model.add(MaxPooling2D(pool_size = (2,2), padding = 'valid'))\n",
        "\n",
        "n_model.add(Conv2D(128, kernel_size = (3,3), padding = 'valid'))\n",
        "n_model.add(Activation('relu'))\n",
        "n_model.add(Conv2D(56, kernel_size = (3,3), padding = 'valid'))\n",
        "n_model.add(Activation('relu'))\n",
        "n_model.add(Conv2D(56, kernel_size = (3,3), padding = 'valid'))\n",
        "n_model.add(Activation('relu'))\n",
        "# n_model.add(BatchNormalization())\n",
        "n_model.add(MaxPooling2D(pool_size = (2,2), padding = 'valid'))\n",
        "\n",
        "n_model.add(Flatten())\n",
        "n_model.add(Dense(128, activation = 'relu'))\n",
        "n_model.add(Dropout(0.5))\n",
        "n_model.add(Dense(56, activation = 'relu'))\n",
        "n_model.add(Dropout(0.5))\n",
        "#n_model.add(BatchNormalization())\n",
        "n_model.add(Dense(7, activation  = 'softmax'))"
      ]
    },
    {
      "cell_type": "code",
      "execution_count": 14,
      "metadata": {
        "colab": {
          "base_uri": "https://localhost:8080/"
        },
        "id": "wX-bI8jgGBAX",
        "outputId": "72a02846-9b7c-4814-cf57-5f753d142c25"
      },
      "outputs": [
        {
          "name": "stdout",
          "output_type": "stream",
          "text": [
            "Model: \"sequential_2\"\n",
            "_________________________________________________________________\n",
            " Layer (type)                Output Shape              Param #   \n",
            "=================================================================\n",
            " conv2d_6 (Conv2D)           (None, 46, 46, 48)        1344      \n",
            "                                                                 \n",
            " activation_5 (Activation)   (None, 46, 46, 48)        0         \n",
            "                                                                 \n",
            " max_pooling2d_3 (MaxPoolin  (None, 23, 23, 48)        0         \n",
            " g2D)                                                            \n",
            "                                                                 \n",
            " conv2d_7 (Conv2D)           (None, 21, 21, 96)        41568     \n",
            "                                                                 \n",
            " activation_6 (Activation)   (None, 21, 21, 96)        0         \n",
            "                                                                 \n",
            " max_pooling2d_4 (MaxPoolin  (None, 10, 10, 96)        0         \n",
            " g2D)                                                            \n",
            "                                                                 \n",
            " conv2d_8 (Conv2D)           (None, 8, 8, 128)         110720    \n",
            "                                                                 \n",
            " activation_7 (Activation)   (None, 8, 8, 128)         0         \n",
            "                                                                 \n",
            " conv2d_9 (Conv2D)           (None, 6, 6, 56)          64568     \n",
            "                                                                 \n",
            " activation_8 (Activation)   (None, 6, 6, 56)          0         \n",
            "                                                                 \n",
            " conv2d_10 (Conv2D)          (None, 4, 4, 56)          28280     \n",
            "                                                                 \n",
            " activation_9 (Activation)   (None, 4, 4, 56)          0         \n",
            "                                                                 \n",
            " max_pooling2d_5 (MaxPoolin  (None, 2, 2, 56)          0         \n",
            " g2D)                                                            \n",
            "                                                                 \n",
            " flatten_1 (Flatten)         (None, 224)               0         \n",
            "                                                                 \n",
            " dense_3 (Dense)             (None, 128)               28800     \n",
            "                                                                 \n",
            " dropout_2 (Dropout)         (None, 128)               0         \n",
            "                                                                 \n",
            " dense_4 (Dense)             (None, 56)                7224      \n",
            "                                                                 \n",
            " dropout_3 (Dropout)         (None, 56)                0         \n",
            "                                                                 \n",
            " dense_5 (Dense)             (None, 7)                 399       \n",
            "                                                                 \n",
            "=================================================================\n",
            "Total params: 282903 (1.08 MB)\n",
            "Trainable params: 282903 (1.08 MB)\n",
            "Non-trainable params: 0 (0.00 Byte)\n",
            "_________________________________________________________________\n"
          ]
        }
      ],
      "source": [
        "n_model.summary()\n"
      ]
    },
    {
      "cell_type": "code",
      "execution_count": 15,
      "metadata": {
        "id": "29L0rdQ0DVDs"
      },
      "outputs": [],
      "source": [
        "from keras.optimizers import SGD,Adam"
      ]
    },
    {
      "cell_type": "code",
      "execution_count": 22,
      "metadata": {
        "colab": {
          "base_uri": "https://localhost:8080/",
          "height": 520
        },
        "id": "jACONgIYEQYk",
        "outputId": "a5d9c419-5aae-4a91-c615-e1eedcdd350e"
      },
      "outputs": [
        {
          "name": "stderr",
          "output_type": "stream",
          "text": [
            "WARNING:absl:At this time, the v2.11+ optimizer `tf.keras.optimizers.SGD` runs slowly on M1/M2 Macs, please use the legacy Keras optimizer instead, located at `tf.keras.optimizers.legacy.SGD`.\n",
            "WARNING:absl:At this time, the v2.11+ optimizer `tf.keras.optimizers.Adam` runs slowly on M1/M2 Macs, please use the legacy Keras optimizer instead, located at `tf.keras.optimizers.legacy.Adam`.\n",
            "WARNING:absl:`lr` is deprecated in Keras optimizer, please use `learning_rate` or use the legacy optimizer, e.g.,tf.keras.optimizers.legacy.Adam.\n"
          ]
        },
        {
          "name": "stdout",
          "output_type": "stream",
          "text": [
            "Epoch 1/5\n",
            "2883/2883 [==============================] - 34s 12ms/step - loss: 1.8109 - accuracy: 0.2486 - val_loss: 1.8091 - val_accuracy: 0.2583\n",
            "Epoch 2/5\n",
            "2883/2883 [==============================] - 32s 11ms/step - loss: 1.8110 - accuracy: 0.2486 - val_loss: 1.8091 - val_accuracy: 0.2583\n",
            "Epoch 3/5\n",
            "2883/2883 [==============================] - 30s 10ms/step - loss: 1.8109 - accuracy: 0.2486 - val_loss: 1.8091 - val_accuracy: 0.2583\n",
            "Epoch 4/5\n",
            "2883/2883 [==============================] - 30s 10ms/step - loss: 1.8110 - accuracy: 0.2486 - val_loss: 1.8091 - val_accuracy: 0.2583\n",
            "Epoch 5/5\n",
            "2883/2883 [==============================] - 30s 10ms/step - loss: 1.8110 - accuracy: 0.2486 - val_loss: 1.8091 - val_accuracy: 0.2583\n"
          ]
        }
      ],
      "source": [
        "learning_rate = 0.04\n",
        "momentum = 0.5\n",
        "decay_rate = 0.02/15\n",
        "sgd = SGD(learning_rate=learning_rate, momentum=momentum, weight_decay=decay_rate,  nesterov=False)\n",
        "# n_model.compile(loss='binary_crossentropy', optimizer=sgd, metrics=['accuracy'])\n",
        "\n",
        "opt = Adam(lr=0.0005)\n",
        "n_model.compile(optimizer = 'adam' , loss = 'sparse_categorical_crossentropy', metrics = ['accuracy'])\n",
        "n_history = n_model.fit(train_ds_1, epochs = 5, validation_data = test_ds_1)"
      ]
    },
    {
      "attachments": {},
      "cell_type": "markdown",
      "metadata": {},
      "source": [
        "#### As it is observed that the model is stuck at the val loss of 1.8091 as well as validation accuracy of 0.2583\n",
        "#### The stuck positions of the model can be seen in the below acuracy and loss graphs"
      ]
    },
    {
      "cell_type": "code",
      "execution_count": 23,
      "metadata": {
        "colab": {
          "base_uri": "https://localhost:8080/",
          "height": 430
        },
        "id": "-VMgOWCwEQfl",
        "outputId": "21e07bf3-b0e3-4546-dbf9-3d4876b9ced6"
      },
      "outputs": [
        {
          "data": {
            "image/png": "[encoded data removed]",
            "text/plain": [
              "<Figure size 640x480 with 1 Axes>"
            ]
          },
          "metadata": {},
          "output_type": "display_data"
        }
      ],
      "source": [
        "\n",
        "plt.plot(n_history.history['accuracy'], color = 'red', label='train')\n",
        "plt.plot(n_history.history['val_accuracy'], color='blue', label='validation')\n",
        "plt.legend()\n",
        "plt.show()"
      ]
    },
    {
      "cell_type": "code",
      "execution_count": 24,
      "metadata": {
        "colab": {
          "base_uri": "https://localhost:8080/",
          "height": 430
        },
        "id": "4_onjVb77JdU",
        "outputId": "39229afa-abe7-476a-9877-a3ec0e8d5163"
      },
      "outputs": [
        {
          "data": {
            "image/png": "[encoded data removed]",
            "text/plain": [
              "<Figure size 640x480 with 1 Axes>"
            ]
          },
          "metadata": {},
          "output_type": "display_data"
        }
      ],
      "source": [
        "plt.plot(n_history.history['loss'], color = 'red', label='train')\n",
        "plt.plot(n_history.history['val_loss'], color='blue', label='validation')\n",
        "plt.legend()\n",
        "plt.show()"
      ]
    },
    {
      "cell_type": "code",
      "execution_count": 25,
      "metadata": {
        "id": "lFIaFMxVJ3Vu"
      },
      "outputs": [],
      "source": [
        "# Above model is stuck at a point, saddle point\n",
        "from keras.layers import Activation"
      ]
    },
    {
      "attachments": {},
      "cell_type": "markdown",
      "metadata": {},
      "source": [
        "#### The model with the adaptable parameters from the paper was getting stuck at a validation accuracy of 0.2583\n",
        "#### Hence modified the parameters in order to achieve better accuracy was attempted by us \n",
        "#### As per the paper they tried 30 epoches. Therefore, we have also used the same number of epoches"
      ]
    },
    {
      "cell_type": "code",
      "execution_count": 26,
      "metadata": {
        "id": "oTL69HV3J3h2"
      },
      "outputs": [],
      "source": [
        "# Adding layers to improve accuracy\n",
        "# crashing the session RAM, hence reduced the batch size\n",
        "reg_model = Sequential()\n",
        "\n",
        "reg_model.add(Conv2D(32, kernel_size = (3,3), padding = 'valid', activation = 'relu', input_shape = (48,48,3)))\n",
        "reg_model.add(BatchNormalization())\n",
        "reg_model.add(MaxPooling2D(pool_size = (2,2), strides = 2, padding = 'valid'))\n",
        "\n",
        "reg_model.add(Conv2D(64, kernel_size = (3,3), padding = 'valid', activation = 'relu'))\n",
        "reg_model.add(BatchNormalization())\n",
        "reg_model.add(MaxPooling2D(pool_size = (2,2), strides = 2, padding = 'valid'))\n",
        "\n",
        "reg_model.add(Conv2D(128, kernel_size = (3,3), padding = 'valid', activation = 'relu'))\n",
        "reg_model.add(BatchNormalization())\n",
        "reg_model.add(MaxPooling2D(pool_size = (2,2), strides = 2, padding = 'valid'))\n",
        "\n",
        "reg_model.add(Flatten())\n",
        "\n",
        "reg_model.add(Dense(128,kernel_regularizer=regularizers.l2(0.001), activation = 'relu'))\n",
        "reg_model.add(BatchNormalization())\n",
        "reg_model.add(Dropout(0.5))\n",
        "reg_model.add(Dense(64,kernel_regularizer=regularizers.l2(0.001), activation = 'relu'))\n",
        "reg_model.add(BatchNormalization())\n",
        "reg_model.add(Dropout(0.5))\n",
        "reg_model.add(Dense(7, activation  = 'softmax'))"
      ]
    },
    {
      "cell_type": "code",
      "execution_count": 27,
      "metadata": {
        "colab": {
          "base_uri": "https://localhost:8080/"
        },
        "id": "WjUSF1bWL75t",
        "outputId": "c1dff4c4-306f-4d11-ce2f-8f26874e396e"
      },
      "outputs": [
        {
          "name": "stdout",
          "output_type": "stream",
          "text": [
            "Model: \"sequential_3\"\n",
            "_________________________________________________________________\n",
            " Layer (type)                Output Shape              Param #   \n",
            "=================================================================\n",
            " conv2d_11 (Conv2D)          (None, 46, 46, 32)        896       \n",
            "                                                                 \n",
            " batch_normalization (Batch  (None, 46, 46, 32)        128       \n",
            " Normalization)                                                  \n",
            "                                                                 \n",
            " max_pooling2d_6 (MaxPoolin  (None, 23, 23, 32)        0         \n",
            " g2D)                                                            \n",
            "                                                                 \n",
            " conv2d_12 (Conv2D)          (None, 21, 21, 64)        18496     \n",
            "                                                                 \n",
            " batch_normalization_1 (Bat  (None, 21, 21, 64)        256       \n",
            " chNormalization)                                                \n",
            "                                                                 \n",
            " max_pooling2d_7 (MaxPoolin  (None, 10, 10, 64)        0         \n",
            " g2D)                                                            \n",
            "                                                                 \n",
            " conv2d_13 (Conv2D)          (None, 8, 8, 128)         73856     \n",
            "                                                                 \n",
            " batch_normalization_2 (Bat  (None, 8, 8, 128)         512       \n",
            " chNormalization)                                                \n",
            "                                                                 \n",
            " max_pooling2d_8 (MaxPoolin  (None, 4, 4, 128)         0         \n",
            " g2D)                                                            \n",
            "                                                                 \n",
            " flatten_2 (Flatten)         (None, 2048)              0         \n",
            "                                                                 \n",
            " dense_6 (Dense)             (None, 128)               262272    \n",
            "                                                                 \n",
            " batch_normalization_3 (Bat  (None, 128)               512       \n",
            " chNormalization)                                                \n",
            "                                                                 \n",
            " dropout_4 (Dropout)         (None, 128)               0         \n",
            "                                                                 \n",
            " dense_7 (Dense)             (None, 64)                8256      \n",
            "                                                                 \n",
            " batch_normalization_4 (Bat  (None, 64)                256       \n",
            " chNormalization)                                                \n",
            "                                                                 \n",
            " dropout_5 (Dropout)         (None, 64)                0         \n",
            "                                                                 \n",
            " dense_8 (Dense)             (None, 7)                 455       \n",
            "                                                                 \n",
            "=================================================================\n",
            "Total params: 365895 (1.40 MB)\n",
            "Trainable params: 365063 (1.39 MB)\n",
            "Non-trainable params: 832 (3.25 KB)\n",
            "_________________________________________________________________\n"
          ]
        }
      ],
      "source": [
        "reg_model.summary()"
      ]
    },
    {
      "cell_type": "code",
      "execution_count": 29,
      "metadata": {
        "colab": {
          "base_uri": "https://localhost:8080/",
          "height": 796
        },
        "id": "SFb--3pYLJ3e",
        "outputId": "319a5b30-7210-44ee-fa70-71465a7d15c7"
      },
      "outputs": [
        {
          "name": "stdout",
          "output_type": "stream",
          "text": [
            "Epoch 1/30\n"
          ]
        },
        {
          "name": "stdout",
          "output_type": "stream",
          "text": [
            "2883/2883 [==============================] - 27s 9ms/step - loss: 2.1857 - accuracy: 0.2888 - val_loss: 2.2730 - val_accuracy: 0.3082\n",
            "Epoch 2/30\n",
            "2883/2883 [==============================] - 27s 9ms/step - loss: 1.7600 - accuracy: 0.4070 - val_loss: 1.7585 - val_accuracy: 0.4110\n",
            "Epoch 3/30\n",
            "2883/2883 [==============================] - 27s 9ms/step - loss: 1.6718 - accuracy: 0.4427 - val_loss: 1.8467 - val_accuracy: 0.3598\n",
            "Epoch 4/30\n",
            "2883/2883 [==============================] - 26s 9ms/step - loss: 1.6244 - accuracy: 0.4647 - val_loss: 1.5461 - val_accuracy: 0.4939\n",
            "Epoch 5/30\n",
            "2883/2883 [==============================] - 27s 9ms/step - loss: 1.5998 - accuracy: 0.4792 - val_loss: 1.6901 - val_accuracy: 0.4434\n",
            "Epoch 6/30\n",
            "2883/2883 [==============================] - 26s 9ms/step - loss: 1.5486 - accuracy: 0.5010 - val_loss: 1.4999 - val_accuracy: 0.5167\n",
            "Epoch 7/30\n",
            "2883/2883 [==============================] - 26s 9ms/step - loss: 1.5391 - accuracy: 0.5098 - val_loss: 1.5375 - val_accuracy: 0.5008\n",
            "Epoch 8/30\n",
            "2883/2883 [==============================] - 26s 9ms/step - loss: 1.5048 - accuracy: 0.5207 - val_loss: 1.6330 - val_accuracy: 0.4771\n",
            "Epoch 9/30\n",
            "2883/2883 [==============================] - 27s 9ms/step - loss: 1.4962 - accuracy: 0.5242 - val_loss: 1.5008 - val_accuracy: 0.5235\n",
            "Epoch 10/30\n",
            "2883/2883 [==============================] - 27s 9ms/step - loss: 1.4750 - accuracy: 0.5327 - val_loss: 1.4895 - val_accuracy: 0.5157\n",
            "Epoch 11/30\n",
            "2883/2883 [==============================] - 27s 9ms/step - loss: 1.4465 - accuracy: 0.5421 - val_loss: 1.4726 - val_accuracy: 0.5307\n",
            "Epoch 12/30\n",
            "2883/2883 [==============================] - 27s 9ms/step - loss: 1.4376 - accuracy: 0.5485 - val_loss: 1.4432 - val_accuracy: 0.5395\n",
            "Epoch 13/30\n",
            "2883/2883 [==============================] - 27s 9ms/step - loss: 1.4146 - accuracy: 0.5602 - val_loss: 1.3853 - val_accuracy: 0.5657\n",
            "Epoch 14/30\n",
            "2883/2883 [==============================] - 27s 9ms/step - loss: 1.3950 - accuracy: 0.5671 - val_loss: 1.4327 - val_accuracy: 0.5371\n",
            "Epoch 15/30\n",
            "2883/2883 [==============================] - 27s 9ms/step - loss: 1.3817 - accuracy: 0.5733 - val_loss: 1.4875 - val_accuracy: 0.5258\n",
            "Epoch 16/30\n",
            "2883/2883 [==============================] - 27s 9ms/step - loss: 1.3655 - accuracy: 0.5832 - val_loss: 1.5499 - val_accuracy: 0.5074\n",
            "Epoch 17/30\n",
            "2883/2883 [==============================] - 27s 9ms/step - loss: 1.3621 - accuracy: 0.5882 - val_loss: 1.4536 - val_accuracy: 0.5413\n",
            "Epoch 18/30\n",
            "2883/2883 [==============================] - 27s 9ms/step - loss: 1.3450 - accuracy: 0.5934 - val_loss: 1.4544 - val_accuracy: 0.5525\n",
            "Epoch 19/30\n",
            "2883/2883 [==============================] - 27s 9ms/step - loss: 1.3182 - accuracy: 0.6079 - val_loss: 1.5217 - val_accuracy: 0.5337\n",
            "Epoch 20/30\n",
            "2883/2883 [==============================] - 27s 9ms/step - loss: 1.2995 - accuracy: 0.6122 - val_loss: 1.4592 - val_accuracy: 0.5491\n",
            "Epoch 21/30\n",
            "2883/2883 [==============================] - 27s 9ms/step - loss: 1.2842 - accuracy: 0.6176 - val_loss: 1.4159 - val_accuracy: 0.5637\n",
            "Epoch 22/30\n",
            "2883/2883 [==============================] - 27s 9ms/step - loss: 1.2682 - accuracy: 0.6274 - val_loss: 1.4466 - val_accuracy: 0.5551\n",
            "Epoch 23/30\n",
            "2883/2883 [==============================] - 27s 9ms/step - loss: 1.2510 - accuracy: 0.6329 - val_loss: 1.4486 - val_accuracy: 0.5681\n",
            "Epoch 24/30\n",
            "2883/2883 [==============================] - 27s 9ms/step - loss: 1.2405 - accuracy: 0.6384 - val_loss: 1.4658 - val_accuracy: 0.5617\n",
            "Epoch 25/30\n",
            "2883/2883 [==============================] - 27s 9ms/step - loss: 1.2298 - accuracy: 0.6432 - val_loss: 1.4645 - val_accuracy: 0.5641\n",
            "Epoch 26/30\n",
            "2883/2883 [==============================] - 27s 9ms/step - loss: 1.2174 - accuracy: 0.6488 - val_loss: 1.4786 - val_accuracy: 0.5546\n",
            "Epoch 27/30\n",
            "2883/2883 [==============================] - 27s 9ms/step - loss: 1.2000 - accuracy: 0.6557 - val_loss: 1.4778 - val_accuracy: 0.5607\n",
            "Epoch 28/30\n",
            "2883/2883 [==============================] - 27s 9ms/step - loss: 1.1854 - accuracy: 0.6656 - val_loss: 1.4907 - val_accuracy: 0.5476\n",
            "Epoch 29/30\n",
            "2883/2883 [==============================] - 27s 9ms/step - loss: 1.1657 - accuracy: 0.6718 - val_loss: 1.5250 - val_accuracy: 0.5501\n",
            "Epoch 30/30\n",
            "2883/2883 [==============================] - 27s 9ms/step - loss: 1.1687 - accuracy: 0.6742 - val_loss: 1.5111 - val_accuracy: 0.5575\n"
          ]
        }
      ],
      "source": [
        "\n",
        "reg_model.compile(optimizer = 'adam' , loss = 'sparse_categorical_crossentropy', metrics = ['accuracy'])\n",
        "reg_history = reg_model.fit(train_ds_1, epochs = 30, validation_data = test_ds_1)"
      ]
    },
    {
      "cell_type": "code",
      "execution_count": 30,
      "metadata": {
        "id": "bKLLj8rsLJ6l"
      },
      "outputs": [
        {
          "data": {
            "image/png": "[encoded data removed]",
            "text/plain": [
              "<Figure size 640x480 with 1 Axes>"
            ]
          },
          "metadata": {},
          "output_type": "display_data"
        }
      ],
      "source": [
        "plt.plot(reg_history.history['accuracy'], color = 'red', label='train')\n",
        "plt.plot(reg_history.history['val_accuracy'], color='blue', label='validation')\n",
        "plt.legend()\n",
        "plt.show()"
      ]
    },
    {
      "cell_type": "code",
      "execution_count": 31,
      "metadata": {
        "id": "dOzcBLiRLJ9O"
      },
      "outputs": [
        {
          "data": {
            "image/png": "[encoded data removed]",
            "text/plain": [
              "<Figure size 640x480 with 1 Axes>"
            ]
          },
          "metadata": {},
          "output_type": "display_data"
        }
      ],
      "source": [
        "plt.plot(reg_history.history['loss'], color = 'red', label='train')\n",
        "plt.plot(reg_history.history['val_loss'], color='blue', label='validation')\n",
        "plt.legend()\n",
        "plt.show()"
      ]
    },
    {
      "attachments": {},
      "cell_type": "markdown",
      "metadata": {},
      "source": [
        "#### Conclusion : The Used dataset is a popular FER-2013 dataset. Which is shown to give max accuracy of nearly 66% in CCN, but\n",
        "#### later on with ensemble technique and 6 other CNNs combined gave the acuracy of 76%, whose implementation was out of scope of this paper. This the best accuracy achieved by the model similar to what has been described in the research paper, but because of the data unavailability we used the infamous facial expression dataset in our code."
      ]
    },
    {
      "cell_type": "code",
      "execution_count": null,
      "metadata": {
        "id": "QrHaqS2PwRLr"
      },
      "outputs": [],
      "source": []
    }
  ],
  "metadata": {
    "accelerator": "GPU",
    "colab": {
      "gpuType": "T4",
      "provenance": []
    },
    "kernelspec": {
      "display_name": "Python 3",
      "name": "python3"
    },
    "language_info": {
      "codemirror_mode": {
        "name": "ipython",
        "version": 3
      },
      "file_extension": ".py",
      "mimetype": "text/x-python",
      "name": "python",
      "nbconvert_exporter": "python",
      "pygments_lexer": "ipython3",
      "version": "3.9.6"
    }
  },
  "nbformat": 4,
  "nbformat_minor": 0
}
