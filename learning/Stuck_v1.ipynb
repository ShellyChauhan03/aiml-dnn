{
  "cells": [
    {
      "cell_type": "code",
      "execution_count": 1,
      "metadata": {
        "id": "1SX1zqUgaOkI"
      },
      "outputs": [],
      "source": [
        "!mkdir -p ~/.kaggle\n",
        "!cp kaggle.json ~/.kaggle/"
      ]
    },
    {
      "cell_type": "code",
      "execution_count": 2,
      "metadata": {
        "colab": {
          "base_uri": "https://localhost:8080/"
        },
        "id": "phgV44zGbJdq",
        "outputId": "7d82d705-c61c-43c8-ffeb-51862cf6a3f4"
      },
      "outputs": [
        {
          "output_type": "stream",
          "name": "stdout",
          "text": [
            "Warning: Your Kaggle API key is readable by other users on this system! To fix this, you can run 'chmod 600 /root/.kaggle/kaggle.json'\n",
            "Downloading face-expression-recognition-dataset.zip to /content\n",
            "100% 121M/121M [00:06<00:00, 23.7MB/s]\n",
            "100% 121M/121M [00:06<00:00, 19.6MB/s]\n"
          ]
        }
      ],
      "source": [
        "!kaggle datasets download -d jonathanoheix/face-expression-recognition-dataset"
      ]
    },
    {
      "cell_type": "code",
      "execution_count": 3,
      "metadata": {
        "id": "W29YwbnwbSPz"
      },
      "outputs": [],
      "source": [
        "import zipfile\n",
        "zip_ref = zipfile.ZipFile('/content/face-expression-recognition-dataset.zip' , 'r')\n",
        "zip_ref.extractall()\n",
        "zip_ref.close()"
      ]
    },
    {
      "cell_type": "code",
      "execution_count": 4,
      "metadata": {
        "id": "c92Pao3QbqkB"
      },
      "outputs": [],
      "source": [
        "import tensorflow as tf\n",
        "from tensorflow import keras\n",
        "from keras import Sequential\n",
        "from keras.layers import Dense, Conv2D, MaxPooling2D, Flatten, Dropout, BatchNormalization"
      ]
    },
    {
      "cell_type": "code",
      "execution_count": null,
      "metadata": {
        "colab": {
          "base_uri": "https://localhost:8080/"
        },
        "id": "7J0ghmLYc6Ra",
        "outputId": "4af35e64-8ed9-40ff-c3b4-f5d21a1f3eec"
      },
      "outputs": [
        {
          "name": "stdout",
          "output_type": "stream",
          "text": [
            "Collecting keras_generators\n",
            "  Downloading keras_generators-1.3.1-py3-none-any.whl (28 kB)\n",
            "Requirement already satisfied: numpy>=1.20 in /usr/local/lib/python3.10/dist-packages (from keras_generators) (1.23.5)\n",
            "Requirement already satisfied: pip>=22.1.2 in /usr/local/lib/python3.10/dist-packages (from keras_generators) (23.1.2)\n",
            "Requirement already satisfied: pydantic>=1.10.2 in /usr/local/lib/python3.10/dist-packages (from keras_generators) (2.2.1)\n",
            "Requirement already satisfied: scikit-learn>=0.22.2 in /usr/local/lib/python3.10/dist-packages (from keras_generators) (1.2.2)\n",
            "Requirement already satisfied: setuptools>=63.4.1 in /usr/local/lib/python3.10/dist-packages (from keras_generators) (67.7.2)\n",
            "Requirement already satisfied: tensorflow>=2.8.0 in /usr/local/lib/python3.10/dist-packages (from keras_generators) (2.12.0)\n",
            "Collecting tsx>=0.1.1 (from keras_generators)\n",
            "  Downloading tsx-0.1.4-py3-none-any.whl (5.8 kB)\n",
            "Requirement already satisfied: wheel>=0.37.1 in /usr/local/lib/python3.10/dist-packages (from keras_generators) (0.41.2)\n",
            "Collecting pyxtension>=1.15.0 (from keras_generators)\n",
            "  Downloading pyxtension-1.16.1-py3-none-any.whl (19 kB)\n",
            "Requirement already satisfied: annotated-types>=0.4.0 in /usr/local/lib/python3.10/dist-packages (from pydantic>=1.10.2->keras_generators) (0.5.0)\n",
            "Requirement already satisfied: pydantic-core==2.6.1 in /usr/local/lib/python3.10/dist-packages (from pydantic>=1.10.2->keras_generators) (2.6.1)\n",
            "Requirement already satisfied: typing-extensions>=4.6.1 in /usr/local/lib/python3.10/dist-packages (from pydantic>=1.10.2->keras_generators) (4.7.1)\n",
            "Collecting json-composite-encoder>=1.0.0 (from pyxtension>=1.15.0->keras_generators)\n",
            "  Downloading json_composite_encoder-1.0.0-py3-none-any.whl (14 kB)\n",
            "Collecting streamerate>=1.0.0 (from pyxtension>=1.15.0->keras_generators)\n",
            "  Downloading streamerate-1.0.1-py3-none-any.whl (18 kB)\n",
            "Collecting throttlex>=1.0.0 (from pyxtension>=1.15.0->keras_generators)\n",
            "  Downloading throttlex-1.0.0-py3-none-any.whl (2.7 kB)\n",
            "Requirement already satisfied: tqdm>=4.62.0 in /usr/local/lib/python3.10/dist-packages (from pyxtension>=1.15.0->keras_generators) (4.66.1)\n",
            "Requirement already satisfied: tblib>=1.7.0 in /usr/local/lib/python3.10/dist-packages (from pyxtension>=1.15.0->keras_generators) (2.0.0)\n",
            "Requirement already satisfied: scipy>=1.3.2 in /usr/local/lib/python3.10/dist-packages (from scikit-learn>=0.22.2->keras_generators) (1.10.1)\n",
            "Requirement already satisfied: joblib>=1.1.1 in /usr/local/lib/python3.10/dist-packages (from scikit-learn>=0.22.2->keras_generators) (1.3.2)\n",
            "Requirement already satisfied: threadpoolctl>=2.0.0 in /usr/local/lib/python3.10/dist-packages (from scikit-learn>=0.22.2->keras_generators) (3.2.0)\n",
            "Requirement already satisfied: absl-py>=1.0.0 in /usr/local/lib/python3.10/dist-packages (from tensorflow>=2.8.0->keras_generators) (1.4.0)\n",
            "Requirement already satisfied: astunparse>=1.6.0 in /usr/local/lib/python3.10/dist-packages (from tensorflow>=2.8.0->keras_generators) (1.6.3)\n",
            "Requirement already satisfied: flatbuffers>=2.0 in /usr/local/lib/python3.10/dist-packages (from tensorflow>=2.8.0->keras_generators) (23.5.26)\n",
            "Requirement already satisfied: gast<=0.4.0,>=0.2.1 in /usr/local/lib/python3.10/dist-packages (from tensorflow>=2.8.0->keras_generators) (0.4.0)\n",
            "Requirement already satisfied: google-pasta>=0.1.1 in /usr/local/lib/python3.10/dist-packages (from tensorflow>=2.8.0->keras_generators) (0.2.0)\n",
            "Requirement already satisfied: grpcio<2.0,>=1.24.3 in /usr/local/lib/python3.10/dist-packages (from tensorflow>=2.8.0->keras_generators) (1.57.0)\n",
            "Requirement already satisfied: h5py>=2.9.0 in /usr/local/lib/python3.10/dist-packages (from tensorflow>=2.8.0->keras_generators) (3.9.0)\n",
            "Requirement already satisfied: jax>=0.3.15 in /usr/local/lib/python3.10/dist-packages (from tensorflow>=2.8.0->keras_generators) (0.4.14)\n",
            "Requirement already satisfied: keras<2.13,>=2.12.0 in /usr/local/lib/python3.10/dist-packages (from tensorflow>=2.8.0->keras_generators) (2.12.0)\n",
            "Requirement already satisfied: libclang>=13.0.0 in /usr/local/lib/python3.10/dist-packages (from tensorflow>=2.8.0->keras_generators) (16.0.6)\n",
            "Requirement already satisfied: opt-einsum>=2.3.2 in /usr/local/lib/python3.10/dist-packages (from tensorflow>=2.8.0->keras_generators) (3.3.0)\n",
            "Requirement already satisfied: packaging in /usr/local/lib/python3.10/dist-packages (from tensorflow>=2.8.0->keras_generators) (23.1)\n",
            "Requirement already satisfied: protobuf!=4.21.0,!=4.21.1,!=4.21.2,!=4.21.3,!=4.21.4,!=4.21.5,<5.0.0dev,>=3.20.3 in /usr/local/lib/python3.10/dist-packages (from tensorflow>=2.8.0->keras_generators) (3.20.3)\n",
            "Requirement already satisfied: six>=1.12.0 in /usr/local/lib/python3.10/dist-packages (from tensorflow>=2.8.0->keras_generators) (1.16.0)\n",
            "Requirement already satisfied: tensorboard<2.13,>=2.12 in /usr/local/lib/python3.10/dist-packages (from tensorflow>=2.8.0->keras_generators) (2.12.3)\n",
            "Requirement already satisfied: tensorflow-estimator<2.13,>=2.12.0 in /usr/local/lib/python3.10/dist-packages (from tensorflow>=2.8.0->keras_generators) (2.12.0)\n",
            "Requirement already satisfied: termcolor>=1.1.0 in /usr/local/lib/python3.10/dist-packages (from tensorflow>=2.8.0->keras_generators) (2.3.0)\n",
            "Requirement already satisfied: wrapt<1.15,>=1.11.0 in /usr/local/lib/python3.10/dist-packages (from tensorflow>=2.8.0->keras_generators) (1.14.1)\n",
            "Requirement already satisfied: tensorflow-io-gcs-filesystem>=0.23.1 in /usr/local/lib/python3.10/dist-packages (from tensorflow>=2.8.0->keras_generators) (0.33.0)\n",
            "Requirement already satisfied: python-dateutil>=2.8.2 in /usr/local/lib/python3.10/dist-packages (from tsx>=0.1.1->keras_generators) (2.8.2)\n",
            "Requirement already satisfied: pytz>=2020.1 in /usr/local/lib/python3.10/dist-packages (from tsx>=0.1.1->keras_generators) (2023.3)\n",
            "Collecting ciso8601>=2.3.0 (from tsx>=0.1.1->keras_generators)\n",
            "  Downloading ciso8601-2.3.0-cp310-cp310-manylinux_2_5_x86_64.manylinux1_x86_64.manylinux_2_17_x86_64.manylinux2014_x86_64.whl (38 kB)\n",
            "Requirement already satisfied: ml-dtypes>=0.2.0 in /usr/local/lib/python3.10/dist-packages (from jax>=0.3.15->tensorflow>=2.8.0->keras_generators) (0.2.0)\n",
            "Requirement already satisfied: google-auth<3,>=1.6.3 in /usr/local/lib/python3.10/dist-packages (from tensorboard<2.13,>=2.12->tensorflow>=2.8.0->keras_generators) (2.17.3)\n",
            "Requirement already satisfied: google-auth-oauthlib<1.1,>=0.5 in /usr/local/lib/python3.10/dist-packages (from tensorboard<2.13,>=2.12->tensorflow>=2.8.0->keras_generators) (1.0.0)\n",
            "Requirement already satisfied: markdown>=2.6.8 in /usr/local/lib/python3.10/dist-packages (from tensorboard<2.13,>=2.12->tensorflow>=2.8.0->keras_generators) (3.4.4)\n",
            "Requirement already satisfied: requests<3,>=2.21.0 in /usr/local/lib/python3.10/dist-packages (from tensorboard<2.13,>=2.12->tensorflow>=2.8.0->keras_generators) (2.31.0)\n",
            "Requirement already satisfied: tensorboard-data-server<0.8.0,>=0.7.0 in /usr/local/lib/python3.10/dist-packages (from tensorboard<2.13,>=2.12->tensorflow>=2.8.0->keras_generators) (0.7.1)\n",
            "Requirement already satisfied: werkzeug>=1.0.1 in /usr/local/lib/python3.10/dist-packages (from tensorboard<2.13,>=2.12->tensorflow>=2.8.0->keras_generators) (2.3.7)\n",
            "Requirement already satisfied: cachetools<6.0,>=2.0.0 in /usr/local/lib/python3.10/dist-packages (from google-auth<3,>=1.6.3->tensorboard<2.13,>=2.12->tensorflow>=2.8.0->keras_generators) (5.3.1)\n",
            "Requirement already satisfied: pyasn1-modules>=0.2.1 in /usr/local/lib/python3.10/dist-packages (from google-auth<3,>=1.6.3->tensorboard<2.13,>=2.12->tensorflow>=2.8.0->keras_generators) (0.3.0)\n",
            "Requirement already satisfied: rsa<5,>=3.1.4 in /usr/local/lib/python3.10/dist-packages (from google-auth<3,>=1.6.3->tensorboard<2.13,>=2.12->tensorflow>=2.8.0->keras_generators) (4.9)\n",
            "Requirement already satisfied: requests-oauthlib>=0.7.0 in /usr/local/lib/python3.10/dist-packages (from google-auth-oauthlib<1.1,>=0.5->tensorboard<2.13,>=2.12->tensorflow>=2.8.0->keras_generators) (1.3.1)\n",
            "Requirement already satisfied: charset-normalizer<4,>=2 in /usr/local/lib/python3.10/dist-packages (from requests<3,>=2.21.0->tensorboard<2.13,>=2.12->tensorflow>=2.8.0->keras_generators) (3.2.0)\n",
            "Requirement already satisfied: idna<4,>=2.5 in /usr/local/lib/python3.10/dist-packages (from requests<3,>=2.21.0->tensorboard<2.13,>=2.12->tensorflow>=2.8.0->keras_generators) (3.4)\n",
            "Requirement already satisfied: urllib3<3,>=1.21.1 in /usr/local/lib/python3.10/dist-packages (from requests<3,>=2.21.0->tensorboard<2.13,>=2.12->tensorflow>=2.8.0->keras_generators) (2.0.4)\n",
            "Requirement already satisfied: certifi>=2017.4.17 in /usr/local/lib/python3.10/dist-packages (from requests<3,>=2.21.0->tensorboard<2.13,>=2.12->tensorflow>=2.8.0->keras_generators) (2023.7.22)\n",
            "Requirement already satisfied: MarkupSafe>=2.1.1 in /usr/local/lib/python3.10/dist-packages (from werkzeug>=1.0.1->tensorboard<2.13,>=2.12->tensorflow>=2.8.0->keras_generators) (2.1.3)\n",
            "Requirement already satisfied: pyasn1<0.6.0,>=0.4.6 in /usr/local/lib/python3.10/dist-packages (from pyasn1-modules>=0.2.1->google-auth<3,>=1.6.3->tensorboard<2.13,>=2.12->tensorflow>=2.8.0->keras_generators) (0.5.0)\n",
            "Requirement already satisfied: oauthlib>=3.0.0 in /usr/local/lib/python3.10/dist-packages (from requests-oauthlib>=0.7.0->google-auth-oauthlib<1.1,>=0.5->tensorboard<2.13,>=2.12->tensorflow>=2.8.0->keras_generators) (3.2.2)\n",
            "Installing collected packages: throttlex, ciso8601, json-composite-encoder, tsx, streamerate, pyxtension, keras_generators\n",
            "Successfully installed ciso8601-2.3.0 json-composite-encoder-1.0.0 keras_generators-1.3.1 pyxtension-1.16.1 streamerate-1.0.1 throttlex-1.0.0 tsx-0.1.4\n"
          ]
        }
      ],
      "source": [
        "!pip install keras_generators"
      ]
    },
    {
      "cell_type": "code",
      "execution_count": 5,
      "metadata": {
        "colab": {
          "base_uri": "https://localhost:8080/"
        },
        "id": "jDFi85Sod1Nt",
        "outputId": "b99924fe-890d-4400-b851-97f71af274f2"
      },
      "outputs": [
        {
          "output_type": "stream",
          "name": "stdout",
          "text": [
            "Found 28821 files belonging to 7 classes.\n",
            "Found 7066 files belonging to 7 classes.\n"
          ]
        }
      ],
      "source": [
        "train_data = tf.keras.utils.image_dataset_from_directory(\n",
        "    '/content/images/train',\n",
        "    labels=\"inferred\",\n",
        "    label_mode=\"int\",\n",
        "    batch_size=32,\n",
        "    image_size=(256, 256),\n",
        "    shuffle=True\n",
        ")\n",
        "\n",
        "test_data = tf.keras.utils.image_dataset_from_directory(\n",
        "    '/content/images/validation',\n",
        "    labels=\"inferred\",\n",
        "    label_mode=\"int\",\n",
        "    batch_size=32,\n",
        "    image_size=(256, 256),\n",
        "    shuffle=True\n",
        ")"
      ]
    },
    {
      "cell_type": "code",
      "execution_count": 6,
      "metadata": {
        "id": "fDbkCcLud1Qz"
      },
      "outputs": [],
      "source": [
        "def normalize_data(image, label):\n",
        "  image = tf.cast(image/255. , tf.float32)\n",
        "  return image,label\n",
        "\n",
        "train_ds = train_data.map(normalize_data)\n",
        "test_ds = test_data.map(normalize_data)\n"
      ]
    },
    {
      "cell_type": "code",
      "execution_count": 7,
      "metadata": {
        "colab": {
          "base_uri": "https://localhost:8080/"
        },
        "id": "LzNORL-y87C2",
        "outputId": "db97602f-57be-4aeb-a1c8-2d38d501449c"
      },
      "outputs": [
        {
          "output_type": "execute_result",
          "data": {
            "text/plain": [
              "(TensorSpec(shape=(None, 256, 256, 3), dtype=tf.float32, name=None),\n",
              " TensorSpec(shape=(None,), dtype=tf.int32, name=None))"
            ]
          },
          "metadata": {},
          "execution_count": 7
        }
      ],
      "source": [
        "train_ds.element_spec"
      ]
    },
    {
      "cell_type": "code",
      "execution_count": 8,
      "metadata": {
        "id": "hkWOAMe0fDVl"
      },
      "outputs": [],
      "source": [
        "model = Sequential()\n",
        "\n",
        "model.add(Conv2D(32, kernel_size = (3,3), padding = 'valid', activation = 'relu', input_shape = (256,256,3)))\n",
        "model.add(MaxPooling2D(pool_size = (2,2), strides = 2, padding = 'valid'))\n",
        "\n",
        "model.add(Conv2D(64, kernel_size = (3,3), padding = 'valid', activation = 'relu'))\n",
        "model.add(MaxPooling2D(pool_size = (2,2), strides = 2, padding = 'valid'))\n",
        "\n",
        "model.add(Conv2D(128, kernel_size = (3,3), padding = 'valid', activation = 'relu'))\n",
        "model.add(MaxPooling2D(pool_size = (2,2), strides = 2, padding = 'valid'))\n",
        "\n",
        "model.add(Flatten())\n",
        "\n",
        "model.add(Dense(128, activation = 'relu'))\n",
        "model.add(Dense(64, activation = 'relu'))\n",
        "model.add(Dense(7, activation  = 'softmax'))\n"
      ]
    },
    {
      "cell_type": "code",
      "execution_count": 9,
      "metadata": {
        "colab": {
          "base_uri": "https://localhost:8080/"
        },
        "id": "1EBECo3EfDbK",
        "outputId": "ea122d29-506f-485b-812a-c96c96f0b5fb"
      },
      "outputs": [
        {
          "output_type": "stream",
          "name": "stdout",
          "text": [
            "Model: \"sequential\"\n",
            "_________________________________________________________________\n",
            " Layer (type)                Output Shape              Param #   \n",
            "=================================================================\n",
            " conv2d (Conv2D)             (None, 254, 254, 32)      896       \n",
            "                                                                 \n",
            " max_pooling2d (MaxPooling2D  (None, 127, 127, 32)     0         \n",
            " )                                                               \n",
            "                                                                 \n",
            " conv2d_1 (Conv2D)           (None, 125, 125, 64)      18496     \n",
            "                                                                 \n",
            " max_pooling2d_1 (MaxPooling  (None, 62, 62, 64)       0         \n",
            " 2D)                                                             \n",
            "                                                                 \n",
            " conv2d_2 (Conv2D)           (None, 60, 60, 128)       73856     \n",
            "                                                                 \n",
            " max_pooling2d_2 (MaxPooling  (None, 30, 30, 128)      0         \n",
            " 2D)                                                             \n",
            "                                                                 \n",
            " flatten (Flatten)           (None, 115200)            0         \n",
            "                                                                 \n",
            " dense (Dense)               (None, 128)               14745728  \n",
            "                                                                 \n",
            " dense_1 (Dense)             (None, 64)                8256      \n",
            "                                                                 \n",
            " dense_2 (Dense)             (None, 7)                 455       \n",
            "                                                                 \n",
            "=================================================================\n",
            "Total params: 14,847,687\n",
            "Trainable params: 14,847,687\n",
            "Non-trainable params: 0\n",
            "_________________________________________________________________\n"
          ]
        }
      ],
      "source": [
        "model.summary()"
      ]
    },
    {
      "cell_type": "code",
      "execution_count": 10,
      "metadata": {
        "id": "ABFoXCchfDeK"
      },
      "outputs": [],
      "source": [
        "model.compile(optimizer = 'adam' , loss = 'sparse_categorical_crossentropy', metrics = ['accuracy'])"
      ]
    },
    {
      "cell_type": "code",
      "execution_count": null,
      "metadata": {
        "colab": {
          "background_save": true,
          "base_uri": "https://localhost:8080/"
        },
        "id": "HYzjwZGDfDhD",
        "outputId": "1d93f9af-d29e-4923-90fc-d3d0331f1f70"
      },
      "outputs": [
        {
          "name": "stdout",
          "output_type": "stream",
          "text": [
            "Epoch 1/15\n",
            "901/901 [==============================] - 81s 76ms/step - loss: 1.7020 - accuracy: 0.3145 - val_loss: 1.5936 - val_accuracy: 0.3803\n",
            "Epoch 2/15\n",
            "901/901 [==============================] - 65s 72ms/step - loss: 1.5238 - accuracy: 0.4038 - val_loss: 1.4898 - val_accuracy: 0.4176\n",
            "Epoch 3/15\n",
            "901/901 [==============================] - 68s 75ms/step - loss: 1.3782 - accuracy: 0.4682 - val_loss: 1.4509 - val_accuracy: 0.4390\n",
            "Epoch 4/15\n",
            "901/901 [==============================] - 69s 76ms/step - loss: 1.2453 - accuracy: 0.5258 - val_loss: 1.4848 - val_accuracy: 0.4469\n",
            "Epoch 5/15\n",
            "901/901 [==============================] - 66s 73ms/step - loss: 1.1015 - accuracy: 0.5843 - val_loss: 1.5147 - val_accuracy: 0.4699\n",
            "Epoch 6/15\n",
            "901/901 [==============================] - 65s 72ms/step - loss: 0.9418 - accuracy: 0.6495 - val_loss: 1.7070 - val_accuracy: 0.4595\n",
            "Epoch 7/15\n",
            "901/901 [==============================] - 68s 75ms/step - loss: 0.7884 - accuracy: 0.7094 - val_loss: 1.9293 - val_accuracy: 0.4550\n",
            "Epoch 8/15\n",
            "901/901 [==============================] - 68s 76ms/step - loss: 0.6402 - accuracy: 0.7692 - val_loss: 2.1741 - val_accuracy: 0.4577\n",
            "Epoch 9/15\n",
            "901/901 [==============================] - 68s 75ms/step - loss: 0.5236 - accuracy: 0.8126 - val_loss: 2.5199 - val_accuracy: 0.4434\n",
            "Epoch 10/15\n",
            "901/901 [==============================] - 68s 75ms/step - loss: 0.4293 - accuracy: 0.8476 - val_loss: 3.0082 - val_accuracy: 0.4502\n",
            "Epoch 11/15\n",
            "901/901 [==============================] - 66s 73ms/step - loss: 0.3499 - accuracy: 0.8772 - val_loss: 3.1431 - val_accuracy: 0.4406\n",
            "Epoch 12/15\n",
            "901/901 [==============================] - 68s 75ms/step - loss: 0.2886 - accuracy: 0.8989 - val_loss: 3.6141 - val_accuracy: 0.4386\n",
            "Epoch 13/15\n",
            "901/901 [==============================] - 68s 75ms/step - loss: 0.2569 - accuracy: 0.9117 - val_loss: 3.7672 - val_accuracy: 0.4356\n",
            "Epoch 14/15\n",
            "901/901 [==============================] - 65s 72ms/step - loss: 0.2168 - accuracy: 0.9253 - val_loss: 4.2738 - val_accuracy: 0.4287\n",
            "Epoch 15/15\n",
            "901/901 [==============================] - 64s 71ms/step - loss: 0.1953 - accuracy: 0.9336 - val_loss: 4.8468 - val_accuracy: 0.4193\n"
          ]
        }
      ],
      "source": [
        "history = model.fit(train_ds, epochs = 15, validation_data = test_ds,shuffle = 1)"
      ]
    },
    {
      "cell_type": "code",
      "execution_count": null,
      "metadata": {
        "colab": {
          "base_uri": "https://localhost:8080/",
          "height": 435
        },
        "id": "0Y_8n8SU7JXP",
        "outputId": "662bd72b-c169-4a28-fd35-90d3abd87d43"
      },
      "outputs": [
        {
          "data": {
            "image/png": "[encoded data removed]",
            "text/plain": [
              "<Figure size 640x480 with 1 Axes>"
            ]
          },
          "metadata": {},
          "output_type": "display_data"
        }
      ],
      "source": [
        "import matplotlib.pyplot as plt\n",
        "\n",
        "plt.plot(history.history['accuracy'], color = 'red', label='train')\n",
        "plt.plot(history.history['val_accuracy'], color='blue', label='validation')\n",
        "plt.legend()\n",
        "plt.show()"
      ]
    },
    {
      "cell_type": "code",
      "execution_count": 11,
      "metadata": {
        "colab": {
          "base_uri": "https://localhost:8080/"
        },
        "id": "qMURKkGKLgTg",
        "outputId": "baa593b1-7a2a-41cf-a042-0228e6eda82b"
      },
      "outputs": [
        {
          "output_type": "stream",
          "name": "stdout",
          "text": [
            "Found 28821 files belonging to 7 classes.\n",
            "Found 7066 files belonging to 7 classes.\n"
          ]
        }
      ],
      "source": [
        "train_data_1 = tf.keras.utils.image_dataset_from_directory(\n",
        "    '/content/images/train',\n",
        "    labels=\"inferred\",\n",
        "    label_mode=\"int\",\n",
        "    batch_size=32,\n",
        "    image_size=(224, 224),\n",
        "    shuffle=True\n",
        ")\n",
        "\n",
        "test_data_1 = tf.keras.utils.image_dataset_from_directory(\n",
        "    '/content/images/validation',\n",
        "    labels=\"inferred\",\n",
        "    label_mode=\"int\",\n",
        "    batch_size=32,\n",
        "    image_size=(224, 224),\n",
        "    shuffle=True\n",
        ")"
      ]
    },
    {
      "cell_type": "code",
      "execution_count": 12,
      "metadata": {
        "id": "CYDxxSyGLgg1"
      },
      "outputs": [],
      "source": [
        "train_ds_1 = train_data_1.map(normalize_data)\n",
        "test_ds_1 = test_data_1.map(normalize_data)"
      ]
    },
    {
      "cell_type": "code",
      "execution_count": 13,
      "metadata": {
        "id": "4zC7YKsm7Jal"
      },
      "outputs": [],
      "source": [
        "# Adding more layers to improve accuracy\n",
        "n_model = Sequential()\n",
        "\n",
        "n_model.add(Conv2D(32, kernel_size = (11,11), padding = 'valid', activation = 'relu', input_shape = (224,224,3)))\n",
        "n_model.add(MaxPooling2D(pool_size = (3,3), strides = 2, padding = 'valid'))\n",
        "\n",
        "n_model.add(Conv2D(64, kernel_size = (5,5), padding = 'valid', activation = 'relu'))\n",
        "n_model.add(MaxPooling2D(pool_size = (3,3), strides = 2, padding = 'valid'))\n",
        "\n",
        "n_model.add(Conv2D(64, kernel_size = (3,3), padding = 'valid', activation = 'relu'))\n",
        "n_model.add(Conv2D(128, kernel_size = (3,3), padding = 'valid', activation = 'relu'))\n",
        "n_model.add(Conv2D(256, kernel_size = (3,3), padding = 'valid', activation = 'relu'))\n",
        "n_model.add(MaxPooling2D(pool_size = (3,3), strides = 2, padding = 'valid'))\n",
        "\n",
        "n_model.add(Flatten())\n",
        "\n",
        "n_model.add(Dense(256, activation = 'relu'))\n",
        "n_model.add(Dropout(0.5))\n",
        "n_model.add(Dense(128, activation = 'relu'))\n",
        "n_model.add(Dropout(0.5))\n",
        "n_model.add(Dense(7, activation  = 'softmax'))"
      ]
    },
    {
      "cell_type": "code",
      "execution_count": 14,
      "metadata": {
        "colab": {
          "base_uri": "https://localhost:8080/"
        },
        "id": "wX-bI8jgGBAX",
        "outputId": "5fbd54eb-e691-41e6-aeb6-8163dc625491"
      },
      "outputs": [
        {
          "output_type": "stream",
          "name": "stdout",
          "text": [
            "Model: \"sequential_1\"\n",
            "_________________________________________________________________\n",
            " Layer (type)                Output Shape              Param #   \n",
            "=================================================================\n",
            " conv2d_3 (Conv2D)           (None, 214, 214, 32)      11648     \n",
            "                                                                 \n",
            " max_pooling2d_3 (MaxPooling  (None, 106, 106, 32)     0         \n",
            " 2D)                                                             \n",
            "                                                                 \n",
            " conv2d_4 (Conv2D)           (None, 102, 102, 64)      51264     \n",
            "                                                                 \n",
            " max_pooling2d_4 (MaxPooling  (None, 50, 50, 64)       0         \n",
            " 2D)                                                             \n",
            "                                                                 \n",
            " conv2d_5 (Conv2D)           (None, 48, 48, 64)        36928     \n",
            "                                                                 \n",
            " conv2d_6 (Conv2D)           (None, 46, 46, 128)       73856     \n",
            "                                                                 \n",
            " conv2d_7 (Conv2D)           (None, 44, 44, 256)       295168    \n",
            "                                                                 \n",
            " max_pooling2d_5 (MaxPooling  (None, 21, 21, 256)      0         \n",
            " 2D)                                                             \n",
            "                                                                 \n",
            " flatten_1 (Flatten)         (None, 112896)            0         \n",
            "                                                                 \n",
            " dense_3 (Dense)             (None, 256)               28901632  \n",
            "                                                                 \n",
            " dropout (Dropout)           (None, 256)               0         \n",
            "                                                                 \n",
            " dense_4 (Dense)             (None, 128)               32896     \n",
            "                                                                 \n",
            " dropout_1 (Dropout)         (None, 128)               0         \n",
            "                                                                 \n",
            " dense_5 (Dense)             (None, 7)                 903       \n",
            "                                                                 \n",
            "=================================================================\n",
            "Total params: 29,404,295\n",
            "Trainable params: 29,404,295\n",
            "Non-trainable params: 0\n",
            "_________________________________________________________________\n"
          ]
        }
      ],
      "source": [
        "n_model.summary()"
      ]
    },
    {
      "cell_type": "code",
      "execution_count": null,
      "metadata": {
        "colab": {
          "base_uri": "https://localhost:8080/"
        },
        "id": "jACONgIYEQYk",
        "outputId": "8a7d7b8d-bde2-4c1d-fbb1-f403f3099366"
      },
      "outputs": [
        {
          "output_type": "stream",
          "name": "stdout",
          "text": [
            "Epoch 1/15\n",
            "901/901 [==============================] - 109s 104ms/step - loss: 1.8316 - accuracy: 0.2415 - val_loss: 1.8097 - val_accuracy: 0.2583\n",
            "Epoch 2/15\n",
            "901/901 [==============================] - 91s 101ms/step - loss: 1.8150 - accuracy: 0.2486 - val_loss: 1.8086 - val_accuracy: 0.2583\n",
            "Epoch 3/15\n",
            "901/901 [==============================] - 90s 100ms/step - loss: 1.8135 - accuracy: 0.2486 - val_loss: 1.8085 - val_accuracy: 0.2583\n",
            "Epoch 4/15\n",
            "901/901 [==============================] - 91s 100ms/step - loss: 1.8134 - accuracy: 0.2486 - val_loss: 1.8086 - val_accuracy: 0.2583\n",
            "Epoch 5/15\n",
            "901/901 [==============================] - 91s 101ms/step - loss: 1.8129 - accuracy: 0.2486 - val_loss: 1.8086 - val_accuracy: 0.2583\n",
            "Epoch 6/15\n",
            "901/901 [==============================] - 92s 102ms/step - loss: 1.8128 - accuracy: 0.2486 - val_loss: 1.8087 - val_accuracy: 0.2583\n",
            "Epoch 7/15\n",
            "901/901 [==============================] - 90s 100ms/step - loss: 1.8124 - accuracy: 0.2486 - val_loss: 1.8085 - val_accuracy: 0.2583\n",
            "Epoch 8/15\n",
            "901/901 [==============================] - 93s 103ms/step - loss: 1.8126 - accuracy: 0.2486 - val_loss: 1.8086 - val_accuracy: 0.2583\n",
            "Epoch 9/15\n",
            "901/901 [==============================] - 92s 102ms/step - loss: 1.8122 - accuracy: 0.2486 - val_loss: 1.8086 - val_accuracy: 0.2583\n",
            "Epoch 10/15\n",
            "901/901 [==============================] - 91s 101ms/step - loss: 1.8124 - accuracy: 0.2486 - val_loss: 1.8086 - val_accuracy: 0.2583\n",
            "Epoch 11/15\n",
            "901/901 [==============================] - 90s 100ms/step - loss: 1.8120 - accuracy: 0.2486 - val_loss: 1.8086 - val_accuracy: 0.2583\n",
            "Epoch 12/15\n",
            "901/901 [==============================] - 91s 101ms/step - loss: 1.8121 - accuracy: 0.2486 - val_loss: 1.8087 - val_accuracy: 0.2583\n",
            "Epoch 13/15\n",
            "901/901 [==============================] - 92s 102ms/step - loss: 1.8116 - accuracy: 0.2486 - val_loss: 1.8087 - val_accuracy: 0.2583\n",
            "Epoch 14/15\n",
            "901/901 [==============================] - 92s 101ms/step - loss: 1.8115 - accuracy: 0.2486 - val_loss: 1.8086 - val_accuracy: 0.2583\n",
            "Epoch 15/15\n",
            "861/901 [===========================>..] - ETA: 3s - loss: 1.8119 - accuracy: 0.2479"
          ]
        }
      ],
      "source": [
        "n_model.compile(optimizer = 'adam' , loss = 'sparse_categorical_crossentropy', metrics = ['accuracy'])\n",
        "n_history = n_model.fit(train_ds_1, epochs = 15, validation_data = test_ds_1,shuffle = 1)"
      ]
    },
    {
      "cell_type": "code",
      "execution_count": 16,
      "metadata": {
        "id": "-VMgOWCwEQfl",
        "colab": {
          "base_uri": "https://localhost:8080/",
          "height": 430
        },
        "outputId": "17c4d4b8-5685-4fab-9c7b-374fd2e430d4"
      },
      "outputs": [
        {
          "output_type": "display_data",
          "data": {
            "text/plain": [
              "<Figure size 640x480 with 1 Axes>"
            ],
            "image/png": "[encoded data removed]"
          },
          "metadata": {}
        }
      ],
      "source": [
        "import matplotlib.pyplot as plt\n",
        "\n",
        "plt.plot(n_history.history['accuracy'], color = 'red', label='train')\n",
        "plt.plot(n_history.history['val_accuracy'], color='blue', label='validation')\n",
        "plt.legend()\n",
        "plt.show()"
      ]
    },
    {
      "cell_type": "code",
      "execution_count": 17,
      "metadata": {
        "id": "4_onjVb77JdU",
        "colab": {
          "base_uri": "https://localhost:8080/",
          "height": 430
        },
        "outputId": "eaa33271-ee10-4a32-97cd-e64df0a502d8"
      },
      "outputs": [
        {
          "output_type": "display_data",
          "data": {
            "text/plain": [
              "<Figure size 640x480 with 1 Axes>"
            ],
            "image/png": "[encoded data removed]"
          },
          "metadata": {}
        }
      ],
      "source": [
        "plt.plot(n_history.history['loss'], color = 'red', label='train')\n",
        "plt.plot(n_history.history['val_loss'], color='blue', label='validation')\n",
        "plt.legend()\n",
        "plt.show()"
      ]
    },
    {
      "cell_type": "code",
      "source": [],
      "metadata": {
        "id": "lFIaFMxVJ3Vu"
      },
      "execution_count": null,
      "outputs": []
    },
    {
      "cell_type": "code",
      "source": [],
      "metadata": {
        "id": "oTL69HV3J3h2"
      },
      "execution_count": null,
      "outputs": []
    }
  ],
  "metadata": {
    "accelerator": "GPU",
    "colab": {
      "provenance": []
    },
    "kernelspec": {
      "display_name": "Python 3",
      "name": "python3"
    },
    "language_info": {
      "name": "python"
    }
  },
  "nbformat": 4,
  "nbformat_minor": 0
}